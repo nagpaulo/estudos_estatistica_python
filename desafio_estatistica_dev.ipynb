{
 "cells": [
  {
   "cell_type": "markdown",
   "id": "408c4d26",
   "metadata": {},
   "source": [
    "### Desafio - Estátistica para Devs"
   ]
  },
  {
   "cell_type": "code",
   "execution_count": 280,
   "id": "99ade3eb",
   "metadata": {},
   "outputs": [],
   "source": [
    "# Importação das bibliotecas\n",
    "import pandas as pd\n",
    "import matplotlib.pyplot as plt"
   ]
  },
  {
   "cell_type": "code",
   "execution_count": 281,
   "id": "9ae0cdfc",
   "metadata": {},
   "outputs": [],
   "source": [
    "# Criar dicionário de vendas \n",
    "dict_faturamento = {\n",
    "    'data_ref': [\n",
    "        '2023-01-01', \n",
    "        '2020-02-01', \n",
    "        '2021-03-01', \n",
    "        '2022-04-01', \n",
    "        '2023-05-01',\n",
    "        '2023-06-01', \n",
    "        '2020-07-01', \n",
    "        '2021-08-01', \n",
    "        '2022-09-01', \n",
    "        '2023-10-01',\n",
    "        '2022-11-01', \n",
    "        '2023-12-01',\n",
    "        ],\n",
    "    'valor': [\n",
    "        400000, \n",
    "        890000, \n",
    "        760000, \n",
    "        430000, \n",
    "        920000,\n",
    "        340000, \n",
    "        800000, \n",
    "        500000, \n",
    "        200000, \n",
    "        900000,\n",
    "        570000, \n",
    "        995000,\n",
    "        ]\n",
    "}"
   ]
  },
  {
   "cell_type": "code",
   "execution_count": 282,
   "id": "988d0626",
   "metadata": {},
   "outputs": [
    {
     "data": {
      "text/plain": [
       "{'data_ref': ['2023-01-01',\n",
       "  '2020-02-01',\n",
       "  '2021-03-01',\n",
       "  '2022-04-01',\n",
       "  '2023-05-01',\n",
       "  '2023-06-01',\n",
       "  '2020-07-01',\n",
       "  '2021-08-01',\n",
       "  '2022-09-01',\n",
       "  '2023-10-01',\n",
       "  '2022-11-01',\n",
       "  '2023-12-01'],\n",
       " 'valor': [400000,\n",
       "  890000,\n",
       "  760000,\n",
       "  430000,\n",
       "  920000,\n",
       "  340000,\n",
       "  800000,\n",
       "  500000,\n",
       "  200000,\n",
       "  900000,\n",
       "  570000,\n",
       "  995000]}"
      ]
     },
     "execution_count": 282,
     "metadata": {},
     "output_type": "execute_result"
    }
   ],
   "source": [
    "dict_faturamento"
   ]
  },
  {
   "cell_type": "code",
   "execution_count": 283,
   "id": "e2a7cff0",
   "metadata": {},
   "outputs": [
    {
     "data": {
      "text/html": [
       "<div>\n",
       "<style scoped>\n",
       "    .dataframe tbody tr th:only-of-type {\n",
       "        vertical-align: middle;\n",
       "    }\n",
       "\n",
       "    .dataframe tbody tr th {\n",
       "        vertical-align: top;\n",
       "    }\n",
       "\n",
       "    .dataframe thead th {\n",
       "        text-align: right;\n",
       "    }\n",
       "</style>\n",
       "<table border=\"1\" class=\"dataframe\">\n",
       "  <thead>\n",
       "    <tr style=\"text-align: right;\">\n",
       "      <th></th>\n",
       "      <th>data_ref</th>\n",
       "      <th>valor</th>\n",
       "    </tr>\n",
       "  </thead>\n",
       "  <tbody>\n",
       "    <tr>\n",
       "      <th>0</th>\n",
       "      <td>2023-01-01</td>\n",
       "      <td>400000</td>\n",
       "    </tr>\n",
       "    <tr>\n",
       "      <th>1</th>\n",
       "      <td>2020-02-01</td>\n",
       "      <td>890000</td>\n",
       "    </tr>\n",
       "    <tr>\n",
       "      <th>2</th>\n",
       "      <td>2021-03-01</td>\n",
       "      <td>760000</td>\n",
       "    </tr>\n",
       "    <tr>\n",
       "      <th>3</th>\n",
       "      <td>2022-04-01</td>\n",
       "      <td>430000</td>\n",
       "    </tr>\n",
       "    <tr>\n",
       "      <th>4</th>\n",
       "      <td>2023-05-01</td>\n",
       "      <td>920000</td>\n",
       "    </tr>\n",
       "    <tr>\n",
       "      <th>5</th>\n",
       "      <td>2023-06-01</td>\n",
       "      <td>340000</td>\n",
       "    </tr>\n",
       "    <tr>\n",
       "      <th>6</th>\n",
       "      <td>2020-07-01</td>\n",
       "      <td>800000</td>\n",
       "    </tr>\n",
       "    <tr>\n",
       "      <th>7</th>\n",
       "      <td>2021-08-01</td>\n",
       "      <td>500000</td>\n",
       "    </tr>\n",
       "    <tr>\n",
       "      <th>8</th>\n",
       "      <td>2022-09-01</td>\n",
       "      <td>200000</td>\n",
       "    </tr>\n",
       "    <tr>\n",
       "      <th>9</th>\n",
       "      <td>2023-10-01</td>\n",
       "      <td>900000</td>\n",
       "    </tr>\n",
       "    <tr>\n",
       "      <th>10</th>\n",
       "      <td>2022-11-01</td>\n",
       "      <td>570000</td>\n",
       "    </tr>\n",
       "    <tr>\n",
       "      <th>11</th>\n",
       "      <td>2023-12-01</td>\n",
       "      <td>995000</td>\n",
       "    </tr>\n",
       "  </tbody>\n",
       "</table>\n",
       "</div>"
      ],
      "text/plain": [
       "      data_ref   valor\n",
       "0   2023-01-01  400000\n",
       "1   2020-02-01  890000\n",
       "2   2021-03-01  760000\n",
       "3   2022-04-01  430000\n",
       "4   2023-05-01  920000\n",
       "5   2023-06-01  340000\n",
       "6   2020-07-01  800000\n",
       "7   2021-08-01  500000\n",
       "8   2022-09-01  200000\n",
       "9   2023-10-01  900000\n",
       "10  2022-11-01  570000\n",
       "11  2023-12-01  995000"
      ]
     },
     "execution_count": 283,
     "metadata": {},
     "output_type": "execute_result"
    }
   ],
   "source": [
    "df_faturamento = pd.DataFrame.from_dict(dict_faturamento)\n",
    "df_faturamento"
   ]
  },
  {
   "cell_type": "code",
   "execution_count": 284,
   "id": "51603030",
   "metadata": {},
   "outputs": [],
   "source": [
    "df_data = df_faturamento['data_ref']\n",
    "df_valor = df_faturamento['valor']"
   ]
  },
  {
   "cell_type": "code",
   "execution_count": 285,
   "id": "658033cf",
   "metadata": {},
   "outputs": [
    {
     "name": "stdout",
     "output_type": "stream",
     "text": [
      "642083.3333333334\n"
     ]
    }
   ],
   "source": [
    "media_vendas = df_valor.mean()\n",
    "print(media_vendas)"
   ]
  },
  {
   "cell_type": "code",
   "execution_count": 286,
   "id": "91b98628",
   "metadata": {},
   "outputs": [
    {
     "data": {
      "text/plain": [
       "0    2023-01-01\n",
       "1    2020-02-01\n",
       "2    2021-03-01\n",
       "3    2022-04-01\n",
       "4    2023-05-01\n",
       "5    2023-06-01\n",
       "6    2020-07-01\n",
       "7    2021-08-01\n",
       "8    2022-09-01\n",
       "9    2023-10-01\n",
       "10   2022-11-01\n",
       "11   2023-12-01\n",
       "Name: data_ref, dtype: datetime64[ns]"
      ]
     },
     "execution_count": 286,
     "metadata": {},
     "output_type": "execute_result"
    }
   ],
   "source": [
    "df_data = pd.to_datetime(df_data)\n",
    "df_data"
   ]
  },
  {
   "cell_type": "code",
   "execution_count": 287,
   "id": "0c2e92c1",
   "metadata": {},
   "outputs": [],
   "source": [
    "df_faturamento['data_ref'] = pd.to_datetime(df_faturamento['data_ref'])"
   ]
  },
  {
   "cell_type": "code",
   "execution_count": 288,
   "id": "31560a56",
   "metadata": {},
   "outputs": [
    {
     "data": {
      "text/plain": [
       "np.float64(665000.0)"
      ]
     },
     "execution_count": 288,
     "metadata": {},
     "output_type": "execute_result"
    }
   ],
   "source": [
    "mediana = df_valor.median()\n",
    "mediana"
   ]
  },
  {
   "cell_type": "code",
   "execution_count": 289,
   "id": "8f94d3b2",
   "metadata": {},
   "outputs": [
    {
     "data": {
      "text/plain": [
       "0     200000\n",
       "1     340000\n",
       "2     400000\n",
       "3     430000\n",
       "4     500000\n",
       "5     570000\n",
       "6     760000\n",
       "7     800000\n",
       "8     890000\n",
       "9     900000\n",
       "10    920000\n",
       "11    995000\n",
       "Name: valor, dtype: int64"
      ]
     },
     "execution_count": 289,
     "metadata": {},
     "output_type": "execute_result"
    }
   ],
   "source": [
    "moda = df_valor.mode()\n",
    "moda"
   ]
  },
  {
   "cell_type": "code",
   "execution_count": 290,
   "id": "35c1dd0a",
   "metadata": {},
   "outputs": [
    {
     "data": {
      "text/plain": [
       "np.float64(71297537878.78789)"
      ]
     },
     "execution_count": 290,
     "metadata": {},
     "output_type": "execute_result"
    }
   ],
   "source": [
    "varianca_valor = df_valor.var()\n",
    "varianca_valor"
   ]
  },
  {
   "cell_type": "code",
   "execution_count": 291,
   "id": "62fe2bbb",
   "metadata": {},
   "outputs": [
    {
     "data": {
      "text/plain": [
       "np.float64(267015.98805837054)"
      ]
     },
     "execution_count": 291,
     "metadata": {},
     "output_type": "execute_result"
    }
   ],
   "source": [
    "dp_venda = df_valor.std()\n",
    "dp_venda"
   ]
  },
  {
   "cell_type": "code",
   "execution_count": 292,
   "id": "5aa09909",
   "metadata": {},
   "outputs": [
    {
     "data": {
      "text/plain": [
       "np.float64(41.5858774393309)"
      ]
     },
     "execution_count": 292,
     "metadata": {},
     "output_type": "execute_result"
    }
   ],
   "source": [
    "cv = (dp_venda / media_vendas) * 100\n",
    "cv"
   ]
  },
  {
   "cell_type": "code",
   "execution_count": 293,
   "id": "b7ed64f0",
   "metadata": {},
   "outputs": [
    {
     "data": {
      "text/plain": [
       "np.float64(-0.21512627852779745)"
      ]
     },
     "execution_count": 293,
     "metadata": {},
     "output_type": "execute_result"
    }
   ],
   "source": [
    "# Assimetria\n",
    "assimetria = df_valor.skew()\n",
    "assimetria"
   ]
  },
  {
   "cell_type": "code",
   "execution_count": 294,
   "id": "076e46e8",
   "metadata": {},
   "outputs": [
    {
     "data": {
      "text/plain": [
       "np.float64(-1.4631965164004859)"
      ]
     },
     "execution_count": 294,
     "metadata": {},
     "output_type": "execute_result"
    }
   ],
   "source": [
    "# Custose\n",
    "curtose = df_valor.kurtosis()\n",
    "curtose"
   ]
  },
  {
   "cell_type": "code",
   "execution_count": 295,
   "id": "78fc2d65",
   "metadata": {},
   "outputs": [
    {
     "data": {
      "text/plain": [
       "count        12.000000\n",
       "mean     642083.333333\n",
       "std      267015.988058\n",
       "min      200000.000000\n",
       "25%      422500.000000\n",
       "50%      665000.000000\n",
       "75%      892500.000000\n",
       "max      995000.000000\n",
       "Name: valor, dtype: float64"
      ]
     },
     "execution_count": 295,
     "metadata": {},
     "output_type": "execute_result"
    }
   ],
   "source": [
    "df_valor.describe()"
   ]
  },
  {
   "cell_type": "code",
   "execution_count": 296,
   "id": "5ba9700f",
   "metadata": {},
   "outputs": [
    {
     "data": {
      "text/html": [
       "<div>\n",
       "<style scoped>\n",
       "    .dataframe tbody tr th:only-of-type {\n",
       "        vertical-align: middle;\n",
       "    }\n",
       "\n",
       "    .dataframe tbody tr th {\n",
       "        vertical-align: top;\n",
       "    }\n",
       "\n",
       "    .dataframe thead th {\n",
       "        text-align: right;\n",
       "    }\n",
       "</style>\n",
       "<table border=\"1\" class=\"dataframe\">\n",
       "  <thead>\n",
       "    <tr style=\"text-align: right;\">\n",
       "      <th></th>\n",
       "      <th>data_ref</th>\n",
       "      <th>valor</th>\n",
       "    </tr>\n",
       "  </thead>\n",
       "  <tbody>\n",
       "    <tr>\n",
       "      <th>data_ref</th>\n",
       "      <td>1.00000</td>\n",
       "      <td>-0.08879</td>\n",
       "    </tr>\n",
       "    <tr>\n",
       "      <th>valor</th>\n",
       "      <td>-0.08879</td>\n",
       "      <td>1.00000</td>\n",
       "    </tr>\n",
       "  </tbody>\n",
       "</table>\n",
       "</div>"
      ],
      "text/plain": [
       "          data_ref    valor\n",
       "data_ref   1.00000 -0.08879\n",
       "valor     -0.08879  1.00000"
      ]
     },
     "execution_count": 296,
     "metadata": {},
     "output_type": "execute_result"
    }
   ],
   "source": [
    "# Correlação do DataFrame, segundo Pearson\n",
    "df_faturamento.corr(method='pearson')"
   ]
  },
  {
   "cell_type": "code",
   "execution_count": 297,
   "id": "76b402ac",
   "metadata": {},
   "outputs": [
    {
     "name": "stdout",
     "output_type": "stream",
     "text": [
      "<class 'pandas.core.frame.DataFrame'>\n",
      "RangeIndex: 12 entries, 0 to 11\n",
      "Data columns (total 2 columns):\n",
      " #   Column    Non-Null Count  Dtype         \n",
      "---  ------    --------------  -----         \n",
      " 0   data_ref  12 non-null     datetime64[ns]\n",
      " 1   valor     12 non-null     int64         \n",
      "dtypes: datetime64[ns](1), int64(1)\n",
      "memory usage: 324.0 bytes\n"
     ]
    }
   ],
   "source": [
    "df_faturamento.info()"
   ]
  },
  {
   "cell_type": "code",
   "execution_count": 298,
   "id": "5a847e43",
   "metadata": {},
   "outputs": [
    {
     "data": {
      "text/plain": [
       "<Axes: xlabel='data_ref'>"
      ]
     },
     "execution_count": 298,
     "metadata": {},
     "output_type": "execute_result"
    },
    {
     "data": {
      "image/png": "[encoded data removed]",
      "text/plain": [
       "<Figure size 640x480 with 1 Axes>"
      ]
     },
     "metadata": {},
     "output_type": "display_data"
    }
   ],
   "source": [
    "# Grafico de Barras Vertical - Valor \n",
    "df_faturamento.sort_values('data_ref', ascending=False).plot.bar(x='data_ref', y='valor')"
   ]
  },
  {
   "cell_type": "code",
   "execution_count": 300,
   "id": "b6818e3e",
   "metadata": {},
   "outputs": [
    {
     "data": {
      "text/plain": [
       "<Axes: xlabel='data_ref'>"
      ]
     },
     "execution_count": 300,
     "metadata": {},
     "output_type": "execute_result"
    },
    {
     "data": {
      "image/png": "[encoded data removed]",
      "text/plain": [
       "<Figure size 640x480 with 1 Axes>"
      ]
     },
     "metadata": {},
     "output_type": "display_data"
    }
   ],
   "source": [
    "df_faturamento.sort_values('data_ref', ascending=False).plot.line(x='data_ref', y='valor')"
   ]
  }
 ],
 "metadata": {
  "kernelspec": {
   "display_name": "estatistica_des-krYoyUI8",
   "language": "python",
   "name": "python3"
  },
  "language_info": {
   "codemirror_mode": {
    "name": "ipython",
    "version": 3
   },
   "file_extension": ".py",
   "mimetype": "text/x-python",
   "name": "python",
   "nbconvert_exporter": "python",
   "pygments_lexer": "ipython3",
   "version": "3.12.1"
  }
 },
 "nbformat": 4,
 "nbformat_minor": 5
}
